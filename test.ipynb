{
 "cells": [
  {
   "metadata": {
    "ExecuteTime": {
     "end_time": "2025-04-11T03:17:29.673236Z",
     "start_time": "2025-04-11T03:17:12.650814Z"
    }
   },
   "cell_type": "code",
   "source": [
    "from scripts.find_feas_iti import _plot_check_feas_iti\n",
    "\n",
    "_plot_check_feas_iti(rid=285)"
   ],
   "id": "4f3b13c9da7d0543",
   "execution_count": 26,
   "outputs": []
  },
  {
   "metadata": {
    "ExecuteTime": {
     "end_time": "2025-04-11T03:39:25.038870Z",
     "start_time": "2025-04-11T03:39:18.289904Z"
    }
   },
   "cell_type": "code",
   "source": [
    "import numpy as np\n",
    "from src.utils import read_data, pd\n",
    "\n",
    "\n",
    "def find_rids_with_same_final_train_in_all_itis():\n",
    "    \"\"\"\n",
    "    Find rids in feas_iti_left.pkl where all feasible itineraries share the same final train (same train_id & alight_ts).\n",
    "\n",
    "    Returns\n",
    "    -------\n",
    "    pd.DataFrame\n",
    "        Subset of feas_iti_left containing only those rids whose all iti end with the same train.\n",
    "    \"\"\"\n",
    "    df = read_data(\"feas_iti_left\")\n",
    "\n",
    "    # Keep only the last segment for each rid + iti_id\n",
    "    # last_seg = df.sort_values(\"seg_id\").groupby([\"rid\", \"iti_id\"]).tail(1)\n",
    "    last_seg = df.groupby([\"rid\", \"iti_id\"]).last().reset_index()\n",
    "\n",
    "    # 对每个 rid，聚合 (train_id, alight_ts) 为元组，统计唯一值数量\n",
    "    last_seg[\"train_end\"] = list(zip(last_seg[\"train_id\"], last_seg[\"alight_ts\"]))\n",
    "    unique_end_count = last_seg.groupby(\"rid\")[\"train_end\"].nunique()\n",
    "\n",
    "    # 筛选所有 iti 最终列车一致的 rid\n",
    "    consistent_rids = unique_end_count[unique_end_count == 1].index\n",
    "\n",
    "    return df[df[\"rid\"].isin(consistent_rids)]\n",
    "\n",
    "\n",
    "df = read_data(\"feas_iti_left\")\n",
    "\n",
    "# Keep only the last segment for each rid + iti_id\n",
    "last_seg = df.groupby([\"rid\", \"iti_id\"]).last().reset_index()\n",
    "\n",
    "# 对每个 rid，统计train_id唯一值数量\n",
    "unique_end_count = last_seg.groupby(\"rid\")[\"train_id\"].nunique()\n",
    "\n",
    "# 筛选所有 iti 最终列车一致的 rid\n",
    "same_train_rids = unique_end_count[unique_end_count == 1].index\n",
    "\n",
    "# 对于每个same_train_rid，随机选择一个iti_id的最后一行\n",
    "last_alight = last_seg[last_seg[\"rid\"].isin(same_train_rids)].groupby(\"rid\").last()\n",
    "last_alight"
   ],
   "id": "854d5a27594e426e",
   "execution_count": 44,
   "outputs": []
  },
  {
   "metadata": {
    "ExecuteTime": {
     "end_time": "2025-04-11T03:58:48.627557Z",
     "start_time": "2025-04-11T03:58:46.739132Z"
    }
   },
   "cell_type": "code",
   "source": [
    "from src.globals import AFC\n",
    "K_PV = read_data(\"pathvia\", show_timer=False).values\n",
    "# print(AFC[:3], \"\\n\", K_PV[:3])\n",
    "\n",
    "mask = np.isin(AFC[:, 0], same_train_rids)\n",
    "filtered_AFC = AFC[mask]\n",
    "\n",
    "egress_link = K_PV[len(K_PV) - 1 - np.unique(K_PV[:, 0][::-1], return_index=True)[1], :4]\n",
    "path_id_node1 = {link[0]: link[2] for link in egress_link}\n",
    "path_id_node2 = {link[0]: link[3] for link in egress_link}\n",
    "\n",
    "last_alight['TS2'] = {record[0]: record[-1] for record in filtered_AFC}\n",
    "last_alight[\"UID2\"] = {record[0]: record[-2] for record in filtered_AFC}\n",
    "last_alight[\"node1\"] = last_alight[\"path_id\"].map(path_id_node1)\n",
    "last_alight[\"node2\"] = last_alight[\"path_id\"].map(path_id_node2)\n",
    "print(last_alight[last_alight[\"node2\"] != last_alight[\"UID2\"]].shape[0])\n",
    "last_alight"
   ],
   "id": "388769507044b81f",
   "execution_count": 63,
   "outputs": []
  },
  {
   "metadata": {
    "ExecuteTime": {
     "end_time": "2025-04-11T03:54:37.855105Z",
     "start_time": "2025-04-11T03:54:26.608Z"
    }
   },
   "cell_type": "code",
   "source": "last_alight[[\"alight_ts\", \"TS2\", \"UID2\"]]",
   "id": "562a33a4b56871e2",
   "execution_count": 54,
   "outputs": []
  },
  {
   "metadata": {
    "ExecuteTime": {
     "end_time": "2025-04-11T03:55:35.852284Z",
     "start_time": "2025-04-11T03:55:35.710087Z"
    }
   },
   "cell_type": "code",
   "source": "K_PV[len(K_PV) - 1 - np.unique(K_PV[:, 0][::-1], return_index=True)[1], :4]",
   "id": "6ff7e4259fb4672b",
   "execution_count": 59,
   "outputs": []
  },
  {
   "metadata": {
    "ExecuteTime": {
     "end_time": "2025-04-11T03:27:12.160927Z",
     "start_time": "2025-04-11T03:27:11.930214Z"
    }
   },
   "cell_type": "code",
   "source": "last_seg[last_seg[\"rid\"].isin(unique_end_count[unique_end_count == 1].index)].groupby(\"rid\").last()",
   "id": "7862f40a639dfabd",
   "execution_count": 31,
   "outputs": []
  },
  {
   "metadata": {
    "ExecuteTime": {
     "end_time": "2025-04-11T03:15:03.946893Z",
     "start_time": "2025-04-11T03:15:03.885300Z"
    }
   },
   "cell_type": "code",
   "source": "last_seg[last_seg[\"rid\"].isin([285, 286])]",
   "id": "591e3be5b846c9c5",
   "execution_count": 24,
   "outputs": []
  },
  {
   "metadata": {
    "ExecuteTime": {
     "end_time": "2025-04-11T03:16:54.159351Z",
     "start_time": "2025-04-11T03:16:53.824128Z"
    }
   },
   "cell_type": "code",
   "source": "df[(df['rid'] == 285) & (df['iti_id'].isin([1, 2]))]",
   "id": "2db416eb3afdb8f7",
   "execution_count": 25,
   "outputs": []
  },
  {
   "metadata": {},
   "cell_type": "markdown",
   "source": [
    "## 多个feas_iti且最后一趟列车id相同的乘客\n",
    "\n",
    "|           |    rid | iti_id |    path_id | seg_id | train_id | board_ts | alight_ts |\n",
    "|:----------|-------:|-------:|-----------:|-------:|---------:|---------:|----------:|\n",
    "|93194730   | 1525794    |   2 | 1076103701  |     2 | 10301630   |  65071   |   65670|\n",
    "|8610761    |  119014    |   6 | 1101102701  |     3 | 11002833   |  30045   |   30791|\n",
    "|18578209   |  230428    |   6 | 1053108503  |     2 | 10401849   |  29715   |   30255|\n",
    "|72855273   | 1321497    |   3 | 1110112802  |     1 | 10401844   |  60803   |   61537|\n",
    "|105488240  | 1781873    |   2 | 1028106602  |     2 | 10401738   |  69396   |   69625|\n",
    "|90908613   | 1485498    |   2 | 1023112302  |     2 | 10702370   |  64374   |   64780|\n",
    "|91388272   | 1494286    |   1 | 1104111501  |     2 | 10702247   |  65070   |   65278|\n",
    "|53621559   |  957712    |   6 | 1121102503  |     3 | 10401786   |  49174   |   50141|\n",
    "|19767473   |  243641    |   1 | 1081103901  |     2 | 10702323   |  29509   |   31141|\n",
    "|107978876  | 1880069    |   2 | 1129107002  |     1 | 10201226   |  73278   |   74154|\n",
    "|106615427  | 1817923    |   1 | 1027110801  |     2 | 10301362   |  71471   |   73514|\n",
    "|76737269   | 1359494    |   1 | 1099102101  |     2 | 10301421   |  64071   |   65266|\n",
    "|100422001  | 1661221    |   5 | 1061108702  |     1 | 10100270   |  66558   |   66886|\n",
    "|2408620    |   41409    |   2 | 1111106502  |     1 | 10401886   |  25727   |   25836|\n",
    "|101105912  | 1675451    |   1 | 1110101301  |     1 | 10401914   |  66944   |   67031|\n",
    "|92513072   | 1514419    |   3 | 1097110302  |     3 | 10200839   |  65302   |   65408|\n",
    "|81121188   | 1412555    |   1 | 1061109504  |     2 | 10201199   |  63371   |   63480|\n",
    "|108069499  | 1886032    |   1 | 1032108201  |     1 | 10200950   |  73568   |   75192|\n",
    "|73737366   | 1331466    |   1 | 1086110901  |     2 | 10702414   |  61616   |   62107|\n",
    "|48046191   |  811513    |   3 | 1076103602  |     3 | 10301265   |  42747   |   43084|"
   ],
   "id": "b617ae075494be81"
  }
 ],
 "metadata": {
  "kernelspec": {
   "display_name": "Python 3",
   "language": "python",
   "name": "python3"
  },
  "language_info": {
   "codemirror_mode": {
    "name": "ipython",
    "version": 2
   },
   "file_extension": ".py",
   "mimetype": "text/x-python",
   "name": "python",
   "nbconvert_exporter": "python",
   "pygments_lexer": "ipython2",
   "version": "2.7.6"
  }
 },
 "nbformat": 4,
 "nbformat_minor": 5
}

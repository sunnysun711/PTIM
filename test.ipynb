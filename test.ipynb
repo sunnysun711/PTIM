{
 "cells": [
  {
   "cell_type": "code",
   "id": "1bf6739342a8babd",
   "metadata": {
    "ExecuteTime": {
     "end_time": "2025-04-02T11:08:00.382058Z",
     "start_time": "2025-04-02T11:08:00.108127Z"
    }
   },
   "source": [
    "from tkinter.messagebox import showerror\n",
    "\n",
    "import numpy as np\n",
    "from src.utils import read_data\n",
    "\n",
    "# get frequently used data: pathvia array\n",
    "PV = read_data(\"pathvia.pkl\", show_timer=False).sort_values(by=[\"path_id\"])\n",
    "# PV = read_data(\"pathvia.pkl\", show_timer=False).sort_values(by=[\"path_id\", \"pv_id\"])\n",
    "PV: np.ndarray = PV[PV[\"link_type\"] == \"in_vehicle\"][[\"path_id\", \"node_id1\", \"node_id2\", \"line\", \"updown\"]].values\n",
    "\n",
    "# get frequently used data: timetable array\n",
    "TT = read_data(\"TT\", show_timer=False).reset_index().sort_values(by=[\"LINE_NID\", \"UPDOWN\", \"TRAIN_ID\", \"DEPARTURE_TS\"])\n",
    "TT['ts1'] = TT[\"DEPARTURE_TS\"] - TT[\"STOP_TIME\"]  # make sure the carriage gate is actually open at arrive_ts\n",
    "TT: np.ndarray = TT[[\"TRAIN_ID\", \"STATION_NID\", \"LINE_NID\", \"UPDOWN\", \"ts1\", \"DEPARTURE_TS\"]].values"
   ],
   "outputs": [],
   "execution_count": 81
  },
  {
   "metadata": {
    "ExecuteTime": {
     "end_time": "2025-04-02T10:58:02.269829Z",
     "start_time": "2025-04-02T10:58:02.050082Z"
    }
   },
   "cell_type": "code",
   "source": [
    "STA = read_data(\"STA\", show_timer=False)\n",
    "line = np.random.choice([1, 2, 3, 4, 7, 10], size=1)[0]\n",
    "o_nid, d_nid = np.random.choice(STA[STA[\"LINE_NID\"] == line].index, 2)\n",
    "AFC = read_data(\"AFC\", show_timer=False)\n",
    "ts1, ts2 = AFC[[\"TS1\", \"TS2\"]].sample(n=1).values.tolist()[0]\n",
    "if line == 7:\n",
    "    upd = 1 if np.random.rand() < 0.5 else -1\n",
    "else:\n",
    "    upd = 1 if o_nid < d_nid else -1\n",
    "print(o_nid, d_nid, ts1, ts2, upd)"
   ],
   "id": "9513db64976f7b2",
   "outputs": [
    {
     "name": "stdout",
     "output_type": "stream",
     "text": [
      "10337 10326 57090 58454 -1\n"
     ]
    }
   ],
   "execution_count": 63
  },
  {
   "metadata": {
    "ExecuteTime": {
     "end_time": "2025-04-02T11:35:08.968025Z",
     "start_time": "2025-04-02T11:35:08.956241Z"
    }
   },
   "cell_type": "code",
   "source": [
    "def find_tt1(_nid1: int, _nid2: int, _ts1: int, _ts2: int, _upd: int) -> list[tuple[int, int, int]]:\n",
    "    \"\"\"\n",
    "    Find timetable array for nid pairs within ts range.\n",
    "    Board_ts is obtained from departure_ts, alight_ts from arrive_ts.\n",
    "\n",
    "    :return: [(train_id, board_ts, alight_ts), ...]\n",
    "    \"\"\"\n",
    "    assert _ts1 < _ts2, f\"ts1 should be smaller than ts2: {_ts1}, {_ts2}\"\n",
    "\n",
    "    # filter line\n",
    "    start_idx, end_idx = np.searchsorted(TT[:, 2], [line, line + 1])\n",
    "    tt = TT[start_idx:end_idx]\n",
    "\n",
    "    # filter updown\n",
    "    start_idx, end_idx = np.searchsorted(tt[:, 3], [upd, upd + 1])\n",
    "    tt = tt[start_idx:end_idx]\n",
    "\n",
    "    # filter od and ts range\n",
    "    tt = tt[\n",
    "        ((tt[:, 1] == _nid1) | (tt[:, 1] == _nid2))  # filter nid\n",
    "        & (tt[:, 5] > _ts1)  # filter ts1\n",
    "        & (tt[:, 4] < _ts2)  # filter ts2\n",
    "        ]\n",
    "\n",
    "    # find pairs\n",
    "    res: list[tuple[int]] = []\n",
    "    for r1, r2 in zip(tt[:-1], tt[1:]):\n",
    "        if r1[0] == r2[0] and r1[1] == _nid1 and r2[1] == _nid2:\n",
    "            res.append((r1[0], r1[5], r2[4]))\n",
    "\n",
    "    return res\n",
    "\n",
    "def find_tt2(_nid1: int, _nid2: int, _ts1: int, _ts2: int, _upd: int) -> list[tuple[int, int, int]]:\n",
    "    \"\"\"\n",
    "    Find timetable array for nid pairs within ts range.\n",
    "    Board_ts is obtained from departure_ts, alight_ts from arrive_ts.\n",
    "\n",
    "    :return: [(train_id, board_ts, alight_ts), ...]\n",
    "    \"\"\"\n",
    "    assert _ts1 < _ts2, f\"ts1 should be smaller than ts2: {_ts1}, {_ts2}\"\n",
    "\n",
    "    # filter line\n",
    "    start_idx, end_idx = np.searchsorted(TT[:, 2], [line, line + 1])\n",
    "    tt = TT[start_idx:end_idx]\n",
    "\n",
    "    # filter updown\n",
    "    start_idx, end_idx = np.searchsorted(tt[:, 3], [upd, upd + 1])\n",
    "    tt = tt[start_idx:end_idx]\n",
    "\n",
    "    # filter od and ts range\n",
    "    tt = tt[\n",
    "        ((tt[:, 1] == _nid1) | (tt[:, 1] == _nid2))  # filter nid\n",
    "        & (tt[:, 5] > _ts1)  # filter ts1\n",
    "        & (tt[:, 4] < _ts2)  # filter ts2\n",
    "        ]\n",
    "\n",
    "    # # find pairs\n",
    "    # res: list[tuple[int]] = []\n",
    "    # for r1, r2 in zip(tt[:-1], tt[1:]):\n",
    "    #     if r1[0] == r2[0] and r1[1] == _nid1 and r2[1] == _nid2:\n",
    "    #         res.append((r1[0], r1[5], r2[4]))\n",
    "\n",
    "    # Pair finding using vectorized comparison\n",
    "    train_ids = tt[:-1, 0] == tt[1:, 0]  # check if train_id is the same for consecutive rows\n",
    "    nid1_condition = tt[:-1, 1] == _nid1  # check if the first station is _nid1\n",
    "    nid2_condition = tt[1:, 1] == _nid2  # check if the second station is _nid2\n",
    "\n",
    "    # Combine conditions\n",
    "    condition = train_ids & nid1_condition & nid2_condition\n",
    "\n",
    "    # Prepare result using filtered indices\n",
    "    res = [(tt[i, 0], tt[i, 5], tt[i + 1, 4]) for i in range(len(tt) - 1) if condition[i]]\n",
    "    return res"
   ],
   "id": "63018e5c110dff89",
   "outputs": [],
   "execution_count": 128
  },
  {
   "metadata": {
    "ExecuteTime": {
     "end_time": "2025-04-02T11:36:16.917783Z",
     "start_time": "2025-04-02T11:36:10.537969Z"
    }
   },
   "cell_type": "code",
   "source": [
    "%timeit find_tt1(o_nid, d_nid, ts1, ts2+2000, upd)\n",
    "%timeit find_tt2(o_nid, d_nid, ts1, ts2+2000, upd)"
   ],
   "id": "5ac9d0b2e63e9ac2",
   "outputs": [
    {
     "name": "stdout",
     "output_type": "stream",
     "text": [
      "41 µs ± 1.29 µs per loop (mean ± std. dev. of 7 runs, 10,000 loops each)\n",
      "37.1 µs ± 882 ns per loop (mean ± std. dev. of 7 runs, 10,000 loops each)\n"
     ]
    }
   ],
   "execution_count": 130
  },
  {
   "metadata": {
    "ExecuteTime": {
     "end_time": "2025-04-02T11:42:14.509607Z",
     "start_time": "2025-04-02T11:42:00.334706Z"
    }
   },
   "cell_type": "code",
   "source": [
    "_uid1, _uid2 = 1001, 1130\n",
    "%timeit base_path_id = int(f\"{_uid1}{_uid2}01\")\n",
    "%timeit base_path_id = _uid1*1000000 +_uid2*100 +1"
   ],
   "id": "f263872b4ebc7d3",
   "outputs": [
    {
     "name": "stdout",
     "output_type": "stream",
     "text": [
      "408 ns ± 11.9 ns per loop (mean ± std. dev. of 7 runs, 1,000,000 loops each)\n",
      "133 ns ± 8.71 ns per loop (mean ± std. dev. of 7 runs, 10,000,000 loops each)\n"
     ]
    }
   ],
   "execution_count": 134
  },
  {
   "metadata": {
    "ExecuteTime": {
     "end_time": "2025-04-02T11:42:35.273285Z",
     "start_time": "2025-04-02T11:42:35.257362Z"
    }
   },
   "cell_type": "code",
   "source": [
    "\n",
    "_uid1*1000000 +_uid2*100 +1, int(f\"{_uid1}{_uid2}01\")"
   ],
   "id": "4f3b13c9da7d0543",
   "outputs": [
    {
     "data": {
      "text/plain": [
       "(1001113001, 1001113001)"
      ]
     },
     "execution_count": 136,
     "metadata": {},
     "output_type": "execute_result"
    }
   ],
   "execution_count": 136
  }
 ],
 "metadata": {
  "kernelspec": {
   "display_name": "Python 3",
   "language": "python",
   "name": "python3"
  },
  "language_info": {
   "codemirror_mode": {
    "name": "ipython",
    "version": 2
   },
   "file_extension": ".py",
   "mimetype": "text/x-python",
   "name": "python",
   "nbconvert_exporter": "python",
   "pygments_lexer": "ipython2",
   "version": "2.7.6"
  }
 },
 "nbformat": 4,
 "nbformat_minor": 5
}

{
 "cells": [
  {
   "metadata": {
    "ExecuteTime": {
     "end_time": "2025-04-04T09:12:30.483951Z",
     "start_time": "2025-04-04T09:12:30.463406Z"
    }
   },
   "cell_type": "code",
   "source": [
    "from src.passenger import *\n",
    "\n",
    "rid, uid1, ts1, uid2, ts2 = AFC[np.random.choice(len(AFC), 1)].flatten().tolist()\n",
    "print(rid, uid1, uid2, ts1, ts2)\n",
    "\n",
    "k_pv = K_PV_DICT[(uid1, uid2)]\n",
    "k_pv"
   ],
   "id": "4f3b13c9da7d0543",
   "outputs": [
    {
     "name": "stdout",
     "output_type": "stream",
     "text": [
      "355809 1086 1111 30171 31672\n"
     ]
    },
    {
     "data": {
      "text/plain": [
       "array([[1086111101,      10336,      10329,          3,         -1],\n",
       "       [1086111101,      10433,      10434,          4,          1],\n",
       "       [1086111102,      10336,      10333,          3,         -1],\n",
       "       [1086111102,      10129,      10125,          1,         -1],\n",
       "       [1086111102,      10431,      10434,          4,          1],\n",
       "       [1086111103,      10336,      10330,          3,         -1],\n",
       "       [1086111103,      10236,      10235,          2,         -1],\n",
       "       [1086111103,      10126,      10125,          1,         -1],\n",
       "       [1086111103,      10431,      10434,          4,          1]],\n",
       "      dtype=int64)"
      ]
     },
     "execution_count": 3,
     "metadata": {},
     "output_type": "execute_result"
    }
   ],
   "execution_count": 3
  },
  {
   "metadata": {
    "ExecuteTime": {
     "end_time": "2025-04-04T09:15:19.016525Z",
     "start_time": "2025-04-04T09:15:18.957819Z"
    }
   },
   "cell_type": "code",
   "source": [
    "iti_list = find_feas_iti(k_pv, ts1, ts2)\n",
    "\n",
    "data= []\n",
    "for iti_id, itinerary in enumerate(iti_list, start=1):\n",
    "    path_id = itinerary[0]\n",
    "    for seg_id, (train_id, board_ts, alight_ts) in enumerate(itinerary[1:], start=1):\n",
    "        data.append([rid, iti_id, path_id, seg_id, train_id, board_ts, alight_ts])\n",
    "data"
   ],
   "id": "3c1b782a14f657e5",
   "outputs": [
    {
     "data": {
      "text/plain": [
       "[[355809, 1, 1086111101, 1, 10301353, 30421, 31289],\n",
       " [355809, 1, 1086111101, 2, 10401784, 31460, 31568],\n",
       " [355809, 2, 1086111101, 1, 10301531, 30189, 31057],\n",
       " [355809, 2, 1086111101, 2, 10401784, 31460, 31568],\n",
       " [355809, 3, 1086111101, 1, 10301531, 30189, 31057],\n",
       " [355809, 3, 1086111101, 2, 10401859, 31270, 31378],\n",
       " [355809, 4, 1086111101, 1, 10301531, 30189, 31057],\n",
       " [355809, 4, 1086111101, 2, 10402045, 31075, 31183],\n",
       " [355809, 5, 1086111102, 1, 10301531, 30189, 30555],\n",
       " [355809, 5, 1086111102, 2, 10100236, 30600, 31021],\n",
       " [355809, 5, 1086111102, 3, 10401784, 31208, 31568],\n",
       " [355809, 6, 1086111102, 1, 10301531, 30189, 30555],\n",
       " [355809, 6, 1086111102, 2, 10100572, 30730, 31151],\n",
       " [355809, 6, 1086111102, 3, 10401784, 31208, 31568]]"
      ]
     },
     "execution_count": 5,
     "metadata": {},
     "output_type": "execute_result"
    }
   ],
   "execution_count": 5
  },
  {
   "metadata": {
    "ExecuteTime": {
     "end_time": "2025-04-04T09:24:42.663119Z",
     "start_time": "2025-04-04T09:24:42.640176Z"
    }
   },
   "cell_type": "code",
   "source": "read_data(\"AFC_feas_iti_not_found\")",
   "id": "a5e849dfe6d3d26f",
   "outputs": [
    {
     "name": "stdout",
     "output_type": "stream",
     "text": [
      "[INFO] read_data(('AFC_feas_iti_not_found',), {}) executing at 04-04 17:24:42.\n",
      "[INFO] read_data(('AFC_feas_iti_not_found',), {}) executed in  04-04 17:24:42. (04-04 17:24:42 -> 0.0069s )\n"
     ]
    },
    {
     "data": {
      "text/plain": [
       "    rid  uid1    ts1  uid2    ts2\n",
       "0   132  1127  15042  1101  23955\n",
       "1   284  1027  18475  1038  21878\n",
       "2   285  1120  18503  1010  27824\n",
       "3   286  1120  18506  1010  27824\n",
       "4   287  1120  18525  1024  25613\n",
       "..  ...   ...    ...   ...    ...\n",
       "92  454  1101  20938  1126  22144\n",
       "93  455  1101  20940  1126  22140\n",
       "94  456  1098  20941  1042  21690\n",
       "95  457  1101  20948  1048  22919\n",
       "96  458  1101  20949  1102  22298\n",
       "\n",
       "[97 rows x 5 columns]"
      ],
      "text/html": [
       "<div>\n",
       "<style scoped>\n",
       "    .dataframe tbody tr th:only-of-type {\n",
       "        vertical-align: middle;\n",
       "    }\n",
       "\n",
       "    .dataframe tbody tr th {\n",
       "        vertical-align: top;\n",
       "    }\n",
       "\n",
       "    .dataframe thead th {\n",
       "        text-align: right;\n",
       "    }\n",
       "</style>\n",
       "<table border=\"1\" class=\"dataframe\">\n",
       "  <thead>\n",
       "    <tr style=\"text-align: right;\">\n",
       "      <th></th>\n",
       "      <th>rid</th>\n",
       "      <th>uid1</th>\n",
       "      <th>ts1</th>\n",
       "      <th>uid2</th>\n",
       "      <th>ts2</th>\n",
       "    </tr>\n",
       "  </thead>\n",
       "  <tbody>\n",
       "    <tr>\n",
       "      <th>0</th>\n",
       "      <td>132</td>\n",
       "      <td>1127</td>\n",
       "      <td>15042</td>\n",
       "      <td>1101</td>\n",
       "      <td>23955</td>\n",
       "    </tr>\n",
       "    <tr>\n",
       "      <th>1</th>\n",
       "      <td>284</td>\n",
       "      <td>1027</td>\n",
       "      <td>18475</td>\n",
       "      <td>1038</td>\n",
       "      <td>21878</td>\n",
       "    </tr>\n",
       "    <tr>\n",
       "      <th>2</th>\n",
       "      <td>285</td>\n",
       "      <td>1120</td>\n",
       "      <td>18503</td>\n",
       "      <td>1010</td>\n",
       "      <td>27824</td>\n",
       "    </tr>\n",
       "    <tr>\n",
       "      <th>3</th>\n",
       "      <td>286</td>\n",
       "      <td>1120</td>\n",
       "      <td>18506</td>\n",
       "      <td>1010</td>\n",
       "      <td>27824</td>\n",
       "    </tr>\n",
       "    <tr>\n",
       "      <th>4</th>\n",
       "      <td>287</td>\n",
       "      <td>1120</td>\n",
       "      <td>18525</td>\n",
       "      <td>1024</td>\n",
       "      <td>25613</td>\n",
       "    </tr>\n",
       "    <tr>\n",
       "      <th>...</th>\n",
       "      <td>...</td>\n",
       "      <td>...</td>\n",
       "      <td>...</td>\n",
       "      <td>...</td>\n",
       "      <td>...</td>\n",
       "    </tr>\n",
       "    <tr>\n",
       "      <th>92</th>\n",
       "      <td>454</td>\n",
       "      <td>1101</td>\n",
       "      <td>20938</td>\n",
       "      <td>1126</td>\n",
       "      <td>22144</td>\n",
       "    </tr>\n",
       "    <tr>\n",
       "      <th>93</th>\n",
       "      <td>455</td>\n",
       "      <td>1101</td>\n",
       "      <td>20940</td>\n",
       "      <td>1126</td>\n",
       "      <td>22140</td>\n",
       "    </tr>\n",
       "    <tr>\n",
       "      <th>94</th>\n",
       "      <td>456</td>\n",
       "      <td>1098</td>\n",
       "      <td>20941</td>\n",
       "      <td>1042</td>\n",
       "      <td>21690</td>\n",
       "    </tr>\n",
       "    <tr>\n",
       "      <th>95</th>\n",
       "      <td>457</td>\n",
       "      <td>1101</td>\n",
       "      <td>20948</td>\n",
       "      <td>1048</td>\n",
       "      <td>22919</td>\n",
       "    </tr>\n",
       "    <tr>\n",
       "      <th>96</th>\n",
       "      <td>458</td>\n",
       "      <td>1101</td>\n",
       "      <td>20949</td>\n",
       "      <td>1102</td>\n",
       "      <td>22298</td>\n",
       "    </tr>\n",
       "  </tbody>\n",
       "</table>\n",
       "<p>97 rows × 5 columns</p>\n",
       "</div>"
      ]
     },
     "execution_count": 6,
     "metadata": {},
     "output_type": "execute_result"
    }
   ],
   "execution_count": 6
  }
 ],
 "metadata": {
  "kernelspec": {
   "display_name": "Python 3",
   "language": "python",
   "name": "python3"
  },
  "language_info": {
   "codemirror_mode": {
    "name": "ipython",
    "version": 2
   },
   "file_extension": ".py",
   "mimetype": "text/x-python",
   "name": "python",
   "nbconvert_exporter": "python",
   "pygments_lexer": "ipython2",
   "version": "2.7.6"
  }
 },
 "nbformat": 4,
 "nbformat_minor": 5
}

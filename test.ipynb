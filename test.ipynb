{
 "cells": [
  {
   "cell_type": "code",
   "id": "1bf6739342a8babd",
   "metadata": {
    "jupyter": {
     "is_executing": true
    }
   },
   "source": [
    "from src.metro_net import ChengduMetro\n",
    "from src.utils import read_data\n",
    "\n",
    "nodes = read_data(\"node_info\")\n",
    "links = read_data(\"link_info\")\n",
    "net = ChengduMetro(nodes, links)\n",
    "net.print_graph_info()"
   ],
   "execution_count": null,
   "outputs": []
  },
  {
   "metadata": {},
   "cell_type": "code",
   "execution_count": null,
   "source": "",
   "id": "f95e56dcf5a32af5",
   "outputs": []
  }
 ],
 "metadata": {
  "kernelspec": {
   "display_name": "Python 3",
   "language": "python",
   "name": "python3"
  },
  "language_info": {
   "codemirror_mode": {
    "name": "ipython",
    "version": 2
   },
   "file_extension": ".py",
   "mimetype": "text/x-python",
   "name": "python",
   "nbconvert_exporter": "python",
   "pygments_lexer": "ipython2",
   "version": "2.7.6"
  }
 },
 "nbformat": 4,
 "nbformat_minor": 5
}

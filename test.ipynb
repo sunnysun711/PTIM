{
 "cells": [
  {
   "metadata": {
    "ExecuteTime": {
     "end_time": "2025-04-05T07:53:35.657316Z",
     "start_time": "2025-04-05T07:53:34.696636Z"
    }
   },
   "cell_type": "code",
   "source": [
    "import pandas as pd\n",
    "\n",
    "from src.utils import read_data\n",
    "\n",
    "fi = read_data(\"feas_iti\")\n",
    "fi.info()"
   ],
   "id": "4f3b13c9da7d0543",
   "outputs": [
    {
     "name": "stdout",
     "output_type": "stream",
     "text": [
      "[INFO] read_data(('feas_iti',), {}) executing at 04-05 15:53:34.\n",
      "[INFO] read_data(('feas_iti',), {}) executed in  04-05 15:53:35. (04-05 15:53:34 -> 0.6647s )\n",
      "<class 'pandas.core.frame.DataFrame'>\n",
      "RangeIndex: 112398082 entries, 0 to 112398081\n",
      "Data columns (total 7 columns):\n",
      " #   Column     Dtype\n",
      "---  ------     -----\n",
      " 0   rid        int32\n",
      " 1   iti_id     int32\n",
      " 2   path_id    int32\n",
      " 3   seg_id     int32\n",
      " 4   train_id   int32\n",
      " 5   board_ts   int32\n",
      " 6   alight_ts  int32\n",
      "dtypes: int32(7)\n",
      "memory usage: 2.9 GB\n"
     ]
    }
   ],
   "execution_count": 1
  },
  {
   "metadata": {},
   "cell_type": "code",
   "outputs": [
    {
     "name": "stdout",
     "output_type": "stream",
     "text": [
      "rid 1970821\n",
      "iti_id 446796\n",
      "path_id 60447\n",
      "seg_id 5\n",
      "train_id 2217\n",
      "board_ts 37474\n",
      "alight_ts 37612\n"
     ]
    }
   ],
   "execution_count": 20,
   "source": [
    "import pandas as pd\n",
    "for col in fi.columns:\n",
    "    print(col, fi[col].nunique())"
   ],
   "id": "55689dcabcba7957"
  },
  {
   "metadata": {
    "ExecuteTime": {
     "end_time": "2025-04-05T07:54:04.629223Z",
     "start_time": "2025-04-05T07:54:03.662643Z"
    }
   },
   "cell_type": "code",
   "source": [
    "fi['seg_id'] = fi['seg_id'].astype(\"int8\")\n",
    "fi['train_id'] = fi['train_id'].astype(\"category\")\n",
    "fi.info()"
   ],
   "id": "1c3e8a0f6cedd313",
   "outputs": [
    {
     "name": "stdout",
     "output_type": "stream",
     "text": [
      "<class 'pandas.core.frame.DataFrame'>\n",
      "RangeIndex: 112398082 entries, 0 to 112398081\n",
      "Data columns (total 7 columns):\n",
      " #   Column     Dtype   \n",
      "---  ------     -----   \n",
      " 0   rid        int32   \n",
      " 1   iti_id     int32   \n",
      " 2   path_id    int32   \n",
      " 3   seg_id     int8    \n",
      " 4   train_id   category\n",
      " 5   board_ts   int32   \n",
      " 6   alight_ts  int32   \n",
      "dtypes: category(1), int32(5), int8(1)\n",
      "memory usage: 2.4 GB\n"
     ]
    }
   ],
   "execution_count": 2
  },
  {
   "metadata": {
    "ExecuteTime": {
     "end_time": "2025-04-05T05:28:53.587790Z",
     "start_time": "2025-04-05T05:28:53.171108Z"
    }
   },
   "cell_type": "code",
   "source": [
    "print(fi.rid.nunique())  # number of rid that found feas iti\n",
    "print(fi[fi['iti_id'] == 101].rid.size)  # number of rid that has more than 100 feas iti"
   ],
   "id": "669b639aba61ec21",
   "outputs": [
    {
     "name": "stdout",
     "output_type": "stream",
     "text": [
      "1970821\n",
      "85637\n"
     ]
    }
   ],
   "execution_count": 28
  },
  {
   "metadata": {
    "ExecuteTime": {
     "end_time": "2025-04-05T07:55:53.609240Z",
     "start_time": "2025-04-05T07:55:52.909578Z"
    }
   },
   "cell_type": "code",
   "source": [
    "df_feas_cnt = fi.drop_duplicates([\"rid\"], keep=\"last\")\n",
    "df_feas_cnt[df_feas_cnt['iti_id'] > 100].shape"
   ],
   "id": "3b702ea7df91430e",
   "outputs": [
    {
     "data": {
      "text/plain": [
       "(26385, 7)"
      ]
     },
     "execution_count": 5,
     "metadata": {},
     "output_type": "execute_result"
    }
   ],
   "execution_count": 5
  },
  {
   "metadata": {
    "ExecuteTime": {
     "end_time": "2025-04-05T07:57:34.283215Z",
     "start_time": "2025-04-05T07:57:33.657598Z"
    }
   },
   "cell_type": "code",
   "source": "df_feas_cnt['iti_id'].plot.box()",
   "id": "48f7996e5a868d52",
   "outputs": [
    {
     "data": {
      "text/plain": [
       "<Axes: >"
      ]
     },
     "execution_count": 10,
     "metadata": {},
     "output_type": "execute_result"
    },
    {
     "data": {
      "text/plain": [
       "<Figure size 640x480 with 1 Axes>"
      ],
      "image/png": "[encoded data removed]"
     },
     "metadata": {},
     "output_type": "display_data"
    }
   ],
   "execution_count": 10
  }
 ],
 "metadata": {
  "kernelspec": {
   "display_name": "Python 3",
   "language": "python",
   "name": "python3"
  },
  "language_info": {
   "codemirror_mode": {
    "name": "ipython",
    "version": 2
   },
   "file_extension": ".py",
   "mimetype": "text/x-python",
   "name": "python",
   "nbconvert_exporter": "python",
   "pygments_lexer": "ipython2",
   "version": "2.7.6"
  }
 },
 "nbformat": 4,
 "nbformat_minor": 5
}

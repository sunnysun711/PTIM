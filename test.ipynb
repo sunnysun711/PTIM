{
 "cells": [
  {
   "cell_type": "code",
   "id": "initial_id",
   "metadata": {
    "collapsed": true,
    "ExecuteTime": {
     "end_time": "2025-03-20T15:46:07.414712Z",
     "start_time": "2025-03-20T15:46:07.406204Z"
    }
   },
   "source": [
    "import pandas as pd\n",
    "\n",
    "from src.utils import read_data\n",
    "\n",
    "STA = read_data(fn=\"STA\")"
   ],
   "outputs": [
    {
     "name": "stdout",
     "output_type": "stream",
     "text": [
      "[INFO] read_data((), {'fn': 'STA'}) executing at 03-20 23:46:07.\n",
      "[INFO] read_data((), {'fn': 'STA'}) executed in  03-20 23:46:07. (03-20 23:46:07 -> 0.0025s )\n"
     ]
    }
   ],
   "execution_count": 58
  },
  {
   "metadata": {
    "ExecuteTime": {
     "end_time": "2025-03-20T15:59:11.154595Z",
     "start_time": "2025-03-20T15:59:11.136462Z"
    }
   },
   "cell_type": "code",
   "source": [
    "df = STA.copy()\n",
    "uid_list = df['STATION_UID'].unique().tolist()\n",
    "nid_list = df.index.unique().to_list()\n",
    "nid_down_list = [nid * 10 for nid in nid_list]\n",
    "nid_up_list = [nid10 + 1 for nid10 in nid_down_list]\n",
    "node_id_list = uid_list + nid_down_list + nid_up_list\n",
    "len(node_id_list)"
   ],
   "id": "cace706ebc118b96",
   "outputs": [
    {
     "data": {
      "text/plain": [
       "438"
      ]
     },
     "execution_count": 63,
     "metadata": {},
     "output_type": "execute_result"
    }
   ],
   "execution_count": 63
  },
  {
   "metadata": {
    "ExecuteTime": {
     "end_time": "2025-03-20T15:59:32.142892Z",
     "start_time": "2025-03-20T15:59:32.130306Z"
    }
   },
   "cell_type": "code",
   "source": "df.head()",
   "id": "1a7615480f32d2b1",
   "outputs": [
    {
     "data": {
      "text/plain": [
       "             STATION_UID  IS_TRANSFER  IS_TERMINAL  LINE_NID\n",
       "STATION_NID                                                 \n",
       "10120               1001            0            1         1\n",
       "10121               1096            0            0         1\n",
       "10122               1061            1            0         1\n",
       "10123               1062            0            0         1\n",
       "10124               1015            0            0         1"
      ],
      "text/html": [
       "<div>\n",
       "<style scoped>\n",
       "    .dataframe tbody tr th:only-of-type {\n",
       "        vertical-align: middle;\n",
       "    }\n",
       "\n",
       "    .dataframe tbody tr th {\n",
       "        vertical-align: top;\n",
       "    }\n",
       "\n",
       "    .dataframe thead th {\n",
       "        text-align: right;\n",
       "    }\n",
       "</style>\n",
       "<table border=\"1\" class=\"dataframe\">\n",
       "  <thead>\n",
       "    <tr style=\"text-align: right;\">\n",
       "      <th></th>\n",
       "      <th>STATION_UID</th>\n",
       "      <th>IS_TRANSFER</th>\n",
       "      <th>IS_TERMINAL</th>\n",
       "      <th>LINE_NID</th>\n",
       "    </tr>\n",
       "    <tr>\n",
       "      <th>STATION_NID</th>\n",
       "      <th></th>\n",
       "      <th></th>\n",
       "      <th></th>\n",
       "      <th></th>\n",
       "    </tr>\n",
       "  </thead>\n",
       "  <tbody>\n",
       "    <tr>\n",
       "      <th>10120</th>\n",
       "      <td>1001</td>\n",
       "      <td>0</td>\n",
       "      <td>1</td>\n",
       "      <td>1</td>\n",
       "    </tr>\n",
       "    <tr>\n",
       "      <th>10121</th>\n",
       "      <td>1096</td>\n",
       "      <td>0</td>\n",
       "      <td>0</td>\n",
       "      <td>1</td>\n",
       "    </tr>\n",
       "    <tr>\n",
       "      <th>10122</th>\n",
       "      <td>1061</td>\n",
       "      <td>1</td>\n",
       "      <td>0</td>\n",
       "      <td>1</td>\n",
       "    </tr>\n",
       "    <tr>\n",
       "      <th>10123</th>\n",
       "      <td>1062</td>\n",
       "      <td>0</td>\n",
       "      <td>0</td>\n",
       "      <td>1</td>\n",
       "    </tr>\n",
       "    <tr>\n",
       "      <th>10124</th>\n",
       "      <td>1015</td>\n",
       "      <td>0</td>\n",
       "      <td>0</td>\n",
       "      <td>1</td>\n",
       "    </tr>\n",
       "  </tbody>\n",
       "</table>\n",
       "</div>"
      ]
     },
     "execution_count": 64,
     "metadata": {},
     "output_type": "execute_result"
    }
   ],
   "execution_count": 64
  }
 ],
 "metadata": {
  "kernelspec": {
   "display_name": "Python 3",
   "language": "python",
   "name": "python3"
  },
  "language_info": {
   "codemirror_mode": {
    "name": "ipython",
    "version": 2
   },
   "file_extension": ".py",
   "mimetype": "text/x-python",
   "name": "python",
   "nbconvert_exporter": "python",
   "pygments_lexer": "ipython2",
   "version": "2.7.6"
  }
 },
 "nbformat": 4,
 "nbformat_minor": 5
}

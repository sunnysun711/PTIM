{
 "cells": [
  {
   "cell_type": "code",
   "id": "initial_id",
   "metadata": {
    "collapsed": true,
    "ExecuteTime": {
     "end_time": "2025-03-31T08:23:15.251417Z",
     "start_time": "2025-03-31T08:23:15.169006Z"
    }
   },
   "source": [
    "import pandas as pd\n",
    "\n",
    "from src.utils import read_data\n",
    "\n",
    "# AFC = read_data(\"AFC\", drop_cols=False)\n",
    "AFC = read_data(\"AFC\")\n",
    "AFC.head()"
   ],
   "execution_count": 27,
   "outputs": []
  },
  {
   "metadata": {
    "ExecuteTime": {
     "end_time": "2025-03-31T08:24:24.591796Z",
     "start_time": "2025-03-31T08:24:24.481669Z"
    }
   },
   "cell_type": "code",
   "source": [
    "# 直接保存 groupby\n",
    "AFC['time_tag'] = AFC['TS1'] // 3600\n",
    "psg_cnt = AFC.groupby([\"STATION1_UID\", \"STATION2_UID\", \"time_tag\"]).TS2.count()\n",
    "# psg_cnt.reset_index().rename(columns={\"TS2\": \"psg_count\"}).to_csv(\"OD_hour.csv\", index=False)\n",
    "psg_cnt.reset_index()"
   ],
   "id": "f4f5adc6f2d8c3b6",
   "execution_count": 31,
   "outputs": []
  },
  {
   "metadata": {
    "ExecuteTime": {
     "end_time": "2025-03-31T08:24:03.876633Z",
     "start_time": "2025-03-31T08:24:03.693046Z"
    }
   },
   "cell_type": "code",
   "source": [
    "# 补0行，再保存\n",
    "o_uid, d_uid = range(1001, 1137), range(1001, 1137)\n",
    "time_tag = range(5, 24)  # 5点 - 23点\n",
    "all_index = [\n",
    "    (o,d,t) for o in o_uid for d in d_uid for t in time_tag if o != d\n",
    "]\n",
    "# all_index = pd.MultiIndex.from_tuples(all_index)\n",
    "df = pd.DataFrame(all_index).rename(columns={0:\"o_uid\", 1:\"d_uid\", 2:\"time_tag\"}).set_index([\"o_uid\", \"d_uid\", \"time_tag\"])\n",
    "df['psg_count'] = psg_cnt\n",
    "df['psg_count'].fillna(0, inplace=True)\n",
    "\n",
    "# df.reset_index().to_csv(\"OD_hour.csv\", index=False)\n",
    "df.reset_index()"
   ],
   "id": "c341754f21c72496",
   "execution_count": 29,
   "outputs": []
  },
  {
   "metadata": {
    "ExecuteTime": {
     "end_time": "2025-03-31T08:18:55.967146Z",
     "start_time": "2025-03-31T08:18:55.958641Z"
    }
   },
   "cell_type": "code",
   "source": "type(psg_cnt)",
   "id": "b75c84bf7a91a38c",
   "execution_count": 16,
   "outputs": []
  }
 ],
 "metadata": {
  "kernelspec": {
   "display_name": "Python 3",
   "language": "python",
   "name": "python3"
  },
  "language_info": {
   "codemirror_mode": {
    "name": "ipython",
    "version": 2
   },
   "file_extension": ".py",
   "mimetype": "text/x-python",
   "name": "python",
   "nbconvert_exporter": "python",
   "pygments_lexer": "ipython2",
   "version": "2.7.6"
  }
 },
 "nbformat": 4,
 "nbformat_minor": 5
}
